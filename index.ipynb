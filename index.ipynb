{
 "cells": [
  {
   "cell_type": "code",
   "execution_count": 10,
   "metadata": {},
   "outputs": [
    {
     "name": "stdout",
     "output_type": "stream",
     "text": [
      "<class 'pandas.core.frame.DataFrame'>\n",
      "RangeIndex: 1275 entries, 0 to 1274\n",
      "Data columns (total 23 columns):\n",
      " #   Column                Non-Null Count  Dtype  \n",
      "---  ------                --------------  -----  \n",
      " 0   Company               1275 non-null   object \n",
      " 1   Product               1275 non-null   object \n",
      " 2   TypeName              1275 non-null   object \n",
      " 3   Inches                1275 non-null   float64\n",
      " 4   Ram                   1275 non-null   int64  \n",
      " 5   OS                    1275 non-null   object \n",
      " 6   Weight                1275 non-null   float64\n",
      " 7   Price_euros           1275 non-null   float64\n",
      " 8   Screen                1275 non-null   object \n",
      " 9   ScreenW               1275 non-null   int64  \n",
      " 10  ScreenH               1275 non-null   int64  \n",
      " 11  Touchscreen           1275 non-null   object \n",
      " 12  IPSpanel              1275 non-null   object \n",
      " 13  RetinaDisplay         1275 non-null   object \n",
      " 14  CPU_company           1275 non-null   object \n",
      " 15  CPU_freq              1275 non-null   float64\n",
      " 16  CPU_model             1275 non-null   object \n",
      " 17  PrimaryStorage        1275 non-null   int64  \n",
      " 18  SecondaryStorage      1275 non-null   int64  \n",
      " 19  PrimaryStorageType    1275 non-null   object \n",
      " 20  SecondaryStorageType  1275 non-null   object \n",
      " 21  GPU_company           1275 non-null   object \n",
      " 22  GPU_model             1275 non-null   object \n",
      "dtypes: float64(4), int64(5), object(14)\n",
      "memory usage: 229.2+ KB\n",
      "None\n",
      "----------------------------\n",
      "(1275, 23)\n",
      "----------------------------\n",
      "            Inches          Ram       Weight  Price_euros      ScreenW  \\\n",
      "count  1275.000000  1275.000000  1275.000000  1275.000000  1275.000000   \n",
      "mean     15.022902     8.440784     2.040525  1134.969059  1900.043922   \n",
      "std       1.429470     5.097809     0.669196   700.752504   493.346186   \n",
      "min      10.100000     2.000000     0.690000   174.000000  1366.000000   \n",
      "25%      14.000000     4.000000     1.500000   609.000000  1920.000000   \n",
      "50%      15.600000     8.000000     2.040000   989.000000  1920.000000   \n",
      "75%      15.600000     8.000000     2.310000  1496.500000  1920.000000   \n",
      "max      18.400000    64.000000     4.700000  6099.000000  3840.000000   \n",
      "\n",
      "           ScreenH     CPU_freq  PrimaryStorage  SecondaryStorage  \n",
      "count  1275.000000  1275.000000     1275.000000       1275.000000  \n",
      "mean   1073.904314     2.302980      444.517647        176.069020  \n",
      "std     283.883940     0.503846      365.537726        415.960655  \n",
      "min     768.000000     0.900000        8.000000          0.000000  \n",
      "25%    1080.000000     2.000000      256.000000          0.000000  \n",
      "50%    1080.000000     2.500000      256.000000          0.000000  \n",
      "75%    1080.000000     2.700000      512.000000          0.000000  \n",
      "max    2160.000000     3.600000     2048.000000       2048.000000  \n"
     ]
    }
   ],
   "source": [
    "import pandas as pd\n",
    "import numpy as np \n",
    "\n",
    "df = pd.read_csv(\"laptop_prices.csv\")\n",
    "\n",
    "print(df.info())\n",
    "print(\"----------------------------\")\n",
    "print(df.shape)\n",
    "print(\"----------------------------\")\n",
    "print(df.describe())\n",
    "\n"
   ]
  },
  {
   "cell_type": "code",
   "execution_count": 14,
   "metadata": {},
   "outputs": [
    {
     "data": {
      "text/plain": [
       "Company                 0\n",
       "Product                 0\n",
       "TypeName                0\n",
       "Inches                  0\n",
       "Ram                     0\n",
       "OS                      0\n",
       "Weight                  0\n",
       "Price_euros             0\n",
       "Screen                  0\n",
       "ScreenW                 0\n",
       "ScreenH                 0\n",
       "Touchscreen             0\n",
       "IPSpanel                0\n",
       "RetinaDisplay           0\n",
       "CPU_company             0\n",
       "CPU_freq                0\n",
       "CPU_model               0\n",
       "PrimaryStorage          0\n",
       "SecondaryStorage        0\n",
       "PrimaryStorageType      0\n",
       "SecondaryStorageType    0\n",
       "GPU_company             0\n",
       "GPU_model               0\n",
       "dtype: int64"
      ]
     },
     "execution_count": 14,
     "metadata": {},
     "output_type": "execute_result"
    }
   ],
   "source": [
    "df.duplicated().sum()\n",
    "df.isnull().sum()"
   ]
  },
  {
   "cell_type": "code",
   "execution_count": 17,
   "metadata": {},
   "outputs": [
    {
     "name": "stdout",
     "output_type": "stream",
     "text": [
      "Index(['Company', 'Product', 'TypeName', 'Inches', 'Ram', 'OS', 'Weight',\n",
      "       'Price_euros', 'Screen', 'ScreenW', 'ScreenH', 'Touchscreen',\n",
      "       'IPSpanel', 'RetinaDisplay', 'CPU_company', 'CPU_freq', 'CPU_model',\n",
      "       'PrimaryStorage', 'SecondaryStorage', 'PrimaryStorageType',\n",
      "       'SecondaryStorageType', 'GPU_company', 'GPU_model'],\n",
      "      dtype='object')\n"
     ]
    },
    {
     "data": {
      "text/plain": [
       "array(['Apple', 'HP', 'Acer', 'Asus', 'Dell', 'Lenovo', 'Chuwi', 'MSI',\n",
       "       'Microsoft', 'Toshiba', 'Huawei', 'Xiaomi', 'Vero', 'Razer',\n",
       "       'Mediacom', 'Samsung', 'Google', 'Fujitsu', 'LG'], dtype=object)"
      ]
     },
     "execution_count": 17,
     "metadata": {},
     "output_type": "execute_result"
    }
   ],
   "source": [
    "print(df.columns)\n",
    "\n",
    "df[\"Company\"].unique()"
   ]
  },
  {
   "cell_type": "code",
   "execution_count": 18,
   "metadata": {},
   "outputs": [
    {
     "data": {
      "text/plain": [
       "array(['Ultrabook', 'Notebook', 'Netbook', 'Gaming', '2 in 1 Convertible',\n",
       "       'Workstation'], dtype=object)"
      ]
     },
     "execution_count": 18,
     "metadata": {},
     "output_type": "execute_result"
    }
   ],
   "source": [
    "df[\"TypeName\"].unique()"
   ]
  },
  {
   "cell_type": "code",
   "execution_count": 19,
   "metadata": {},
   "outputs": [
    {
     "data": {
      "text/plain": [
       "TypeName\n",
       "2 in 1 Convertible    117\n",
       "Gaming                205\n",
       "Netbook                23\n",
       "Notebook              707\n",
       "Ultrabook             194\n",
       "Workstation            29\n",
       "dtype: int64"
      ]
     },
     "execution_count": 19,
     "metadata": {},
     "output_type": "execute_result"
    }
   ],
   "source": [
    "df.groupby([\"TypeName\"]).size()"
   ]
  },
  {
   "cell_type": "code",
   "execution_count": 21,
   "metadata": {},
   "outputs": [
    {
     "data": {
      "text/plain": [
       "array(['Intel', 'AMD', 'Nvidia', 'ARM'], dtype=object)"
      ]
     },
     "execution_count": 21,
     "metadata": {},
     "output_type": "execute_result"
    }
   ],
   "source": [
    "df[\"GPU_company\"].unique()"
   ]
  },
  {
   "cell_type": "code",
   "execution_count": 22,
   "metadata": {},
   "outputs": [
    {
     "data": {
      "text/plain": [
       "array(['Intel', 'AMD', 'Samsung'], dtype=object)"
      ]
     },
     "execution_count": 22,
     "metadata": {},
     "output_type": "execute_result"
    }
   ],
   "source": [
    "df[\"CPU_company\"].unique()"
   ]
  },
  {
   "cell_type": "code",
   "execution_count": 23,
   "metadata": {},
   "outputs": [
    {
     "data": {
      "text/plain": [
       "array(['No', 'Yes'], dtype=object)"
      ]
     },
     "execution_count": 23,
     "metadata": {},
     "output_type": "execute_result"
    }
   ],
   "source": [
    "df[\"Touchscreen\"].unique()"
   ]
  }
 ],
 "metadata": {
  "kernelspec": {
   "display_name": "laptop_prices",
   "language": "python",
   "name": "python3"
  },
  "language_info": {
   "codemirror_mode": {
    "name": "ipython",
    "version": 3
   },
   "file_extension": ".py",
   "mimetype": "text/x-python",
   "name": "python",
   "nbconvert_exporter": "python",
   "pygments_lexer": "ipython3",
   "version": "3.12.7"
  }
 },
 "nbformat": 4,
 "nbformat_minor": 2
}
